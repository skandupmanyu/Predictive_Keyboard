{
 "cells": [
  {
   "cell_type": "markdown",
   "metadata": {
    "colab_type": "text",
    "id": "2Sf1jGMYDPmP"
   },
   "source": [
    "# Setup and imports"
   ]
  },
  {
   "cell_type": "code",
   "execution_count": 88,
   "metadata": {
    "colab": {
     "base_uri": "https://localhost:8080/",
     "height": 34
    },
    "colab_type": "code",
    "executionInfo": {
     "elapsed": 345,
     "status": "ok",
     "timestamp": 1587272557280,
     "user": {
      "displayName": "Skand Upmanyu",
      "photoUrl": "https://lh3.googleusercontent.com/a-/AOh14Gj-g95eci1Yvn_QJOqNQYOERaxoC-FzCYgR-r71VA0=s64",
      "userId": "04864269473795038748"
     },
     "user_tz": 240
    },
    "id": "In7Cs_fl78KW",
    "outputId": "d3ad7b23-9442-4fd4-d7d4-8e41803cddf8"
   },
   "outputs": [
    {
     "name": "stdout",
     "output_type": "stream",
     "text": [
      "Drive already mounted at /content/drive; to attempt to forcibly remount, call drive.mount(\"/content/drive\", force_remount=True).\n"
     ]
    }
   ],
   "source": [
    "import os\n",
    "import re\n",
    "import random\n",
    "import numpy as np\n",
    "import tensorflow as tf\n",
    "from tensorflow.keras import layers\n",
    "import pickle\n",
    "import heapq\n",
    "import math\n",
    "\n",
    "import matplotlib\n",
    "import matplotlib.pyplot as plt\n",
    "matplotlib.rc('font', size=13)\n",
    "matplotlib.rc('axes', titlesize=16)\n",
    "\n",
    "import warnings\n",
    "warnings.filterwarnings(\"ignore\")\n",
    "\n",
    "from google.colab import drive\n",
    "drive.mount('/content/drive')\n",
    "\n",
    "business_mails_path = \"./drive/My Drive/Predictive keyboard/data/Business Corpus/enron_mail_20150507.tar.gz\"\n",
    "user_mails_path = './drive/My Drive/Predictive keyboard/data/User/Sent.mbox'\n",
    "business_corpus_file_location = \"./drive/My Drive/Predictive keyboard/data/Business Corpus/business_corpus.txt\"\n",
    "user_corpus_file_location = \"./drive/My Drive/Predictive keyboard/data/User/user_corpus.txt\"\n",
    "business_model_save_location = \"./drive/My Drive/Predictive keyboard/model/Business/business_keras_model.h5\"\n",
    "business_model_history_location = \"./drive/My Drive/Predictive keyboard/model/Business/business_keras_model_history.p\"\n",
    "user_model_save_location = \"./drive/My Drive/Predictive keyboard/model/User/user_keras_model.h5\"\n",
    "user_model_history_location = \"./drive/My Drive/Predictive keyboard/model/User/user_keras_model_history.p\"\n",
    "\n",
    "# !tar -xf ./drive/My\\ Drive/Predictive\\ keyboard/data/Business\\ Corpus/enron_mail_20150507.tar.gz -C ./drive/My\\ Drive/Predictive\\ keyboard/data/Business\\ Corpus/"
   ]
  },
  {
   "cell_type": "markdown",
   "metadata": {
    "colab_type": "text",
    "id": "s44m3bnADM_Z"
   },
   "source": [
    "# Read data"
   ]
  },
  {
   "cell_type": "markdown",
   "metadata": {
    "colab_type": "text",
    "id": "FRH4hCAYDT2_"
   },
   "source": [
    "## Business corpus"
   ]
  },
  {
   "cell_type": "markdown",
   "metadata": {
    "colab_type": "text",
    "id": "xymnPtjBtQ8O"
   },
   "source": [
    "### Extract files"
   ]
  },
  {
   "cell_type": "code",
   "execution_count": 0,
   "metadata": {
    "colab": {},
    "colab_type": "code",
    "id": "_TZRu4fEtD84"
   },
   "outputs": [],
   "source": [
    "business_mails_console_path = re.sub(' ', '\\ ', business_mails_path)\n",
    "\n",
    "!mkdir ./business_mails\n",
    "!tar -xf $business_mails_console_path -C ./business_mails/\n",
    "\n",
    "business_mails_extracted_path = \"./business_mails/maildir/\""
   ]
  },
  {
   "cell_type": "markdown",
   "metadata": {
    "colab_type": "text",
    "id": "56pJtUt9tS5M"
   },
   "source": [
    "### Read files"
   ]
  },
  {
   "cell_type": "code",
   "execution_count": 4,
   "metadata": {
    "colab": {
     "base_uri": "https://localhost:8080/",
     "height": 34
    },
    "colab_type": "code",
    "executionInfo": {
     "elapsed": 256,
     "status": "ok",
     "timestamp": 1587256183162,
     "user": {
      "displayName": "Skand Upmanyu",
      "photoUrl": "https://lh3.googleusercontent.com/a-/AOh14Gj-g95eci1Yvn_QJOqNQYOERaxoC-FzCYgR-r71VA0=s64",
      "userId": "04864269473795038748"
     },
     "user_tz": 240
    },
    "id": "7Qj19aFi8fFf",
    "outputId": "805b08c5-0b7b-432d-a08a-57bda4632f3e"
   },
   "outputs": [
    {
     "name": "stdout",
     "output_type": "stream",
     "text": [
      "65631  business mails read\n"
     ]
    }
   ],
   "source": [
    "startings = ['X-FileName:']\n",
    "\n",
    "endings = ['---', 'regards', 'cordially', '@', 'from:']\n",
    "\n",
    "date_pattern = re.compile(r'\\d+/\\d+/\\d+ \\d+:\\d+')\n",
    "mails_count = 0\n",
    "all_messages = []\n",
    "\n",
    "people = sorted(os.listdir(business_mails_extracted_path))\n",
    "people = [person for person in people if not person.startswith('.')]\n",
    "\n",
    "for person in people:\n",
    "  mailboxes = sorted(os.listdir(os.path.join(business_mails_extracted_path, person)))\n",
    "  sent_mailboxes = [mailbox for mailbox in mailboxes if 'sent' in mailbox]\n",
    "  for sent_mailbox in sent_mailboxes:\n",
    "    mails = sorted(os.listdir(os.path.join(business_mails_extracted_path, person, sent_mailbox)))\n",
    "    for mail_file in mails:\n",
    "      mail = os.path.join(business_mails_extracted_path, person, sent_mailbox, mail_file)\n",
    "      if os.path.isfile(mail):\n",
    "        f = open(mail)\n",
    "        mail_start = 0\n",
    "        message = []\n",
    "        try:\n",
    "          for line in f:\n",
    "            line = re.sub(\"=\\n\", \"\", line)\n",
    "            if any(starting in line for starting in startings):\n",
    "              mail_start = 1\n",
    "            elif any(ending in line.lower() for ending in endings) or bool(date_pattern.search(line)):\n",
    "              mail_start = 0\n",
    "              complete_message = ''.join(message).strip()\n",
    "            elif mail_start == 1:\n",
    "              message.append(line)\n",
    "            else:\n",
    "              continue\n",
    "        except:\n",
    "          continue\n",
    "        if len(complete_message) > 0:\n",
    "          mails_count+=1\n",
    "          all_messages.append(complete_message)\n",
    "\n",
    "print(mails_count, ' business mails read')"
   ]
  },
  {
   "cell_type": "markdown",
   "metadata": {
    "colab_type": "text",
    "id": "GRy9uluftVHP"
   },
   "source": [
    "### Create corpus"
   ]
  },
  {
   "cell_type": "code",
   "execution_count": 0,
   "metadata": {
    "colab": {},
    "colab_type": "code",
    "id": "kMeRz1iCJ_6S"
   },
   "outputs": [],
   "source": [
    "business_corpus = []\n",
    "for message in all_messages:\n",
    "  for line in message.split('\\n'):\n",
    "    if len(line) > 10:\n",
    "      business_corpus.append(line.lower())"
   ]
  },
  {
   "cell_type": "markdown",
   "metadata": {
    "colab_type": "text",
    "id": "Cg6ftZy5tWxU"
   },
   "source": [
    "### Write corpus to file"
   ]
  },
  {
   "cell_type": "code",
   "execution_count": 0,
   "metadata": {
    "colab": {},
    "colab_type": "code",
    "id": "jhSJU642JbEV"
   },
   "outputs": [],
   "source": [
    "with open(business_corpus_file_location, 'w') as f:\n",
    "  for item in business_corpus:\n",
    "    f.write(\"%s\\n\" % item)"
   ]
  },
  {
   "cell_type": "markdown",
   "metadata": {
    "colab_type": "text",
    "id": "Ermjl9DyDbA2"
   },
   "source": [
    "## User emails corpus"
   ]
  },
  {
   "cell_type": "markdown",
   "metadata": {
    "colab_type": "text",
    "id": "SCzBc_KGtZXL"
   },
   "source": [
    "### Read mails"
   ]
  },
  {
   "cell_type": "code",
   "execution_count": 6,
   "metadata": {
    "colab": {
     "base_uri": "https://localhost:8080/",
     "height": 34
    },
    "colab_type": "code",
    "executionInfo": {
     "elapsed": 17256,
     "status": "ok",
     "timestamp": 1587256305019,
     "user": {
      "displayName": "Skand Upmanyu",
      "photoUrl": "https://lh3.googleusercontent.com/a-/AOh14Gj-g95eci1Yvn_QJOqNQYOERaxoC-FzCYgR-r71VA0=s64",
      "userId": "04864269473795038748"
     },
     "user_tz": 240
    },
    "id": "q6X7MMj-U3HW",
    "outputId": "77734a0c-5484-4cbb-bf90-2080b33f6249"
   },
   "outputs": [
    {
     "name": "stdout",
     "output_type": "stream",
     "text": [
      "516  user mails read\n"
     ]
    }
   ],
   "source": [
    "endings = ('https://www.linkedin.com/in/skand-upmanyu/', 'skand upmanyu', 'thanks and regards,', '---------- forwarded message ---------', 'pfa', 'on mon,', 'on tue,', 'on wed,', 'on thu,', 'on fri,', 'on sat,', 'on sun,', '--00')\n",
    "\n",
    "f = open(user_mails_path)\n",
    "mails_count = 0\n",
    "mail_start = 0\n",
    "body_start = 0\n",
    "user_corpus = []\n",
    "message = []\n",
    "for line in f:\n",
    "  line = re.sub(\"\\n\", \"\", line)\n",
    "  if line == 'From: Skand Upmanyu <su2236@columbia.edu>':\n",
    "    mail_start = 1\n",
    "  elif (mail_start == 1) & (line == 'Content-Type: text/plain; charset=\"UTF-8\"'):\n",
    "    body_start = 1\n",
    "  elif (mail_start == 1) & (body_start == 1) & (line.lower().startswith(endings)):\n",
    "    mail_start = 0\n",
    "    body_start = 0\n",
    "    complete_message = ' '.join(message).strip()\n",
    "    message = []\n",
    "    if len(complete_message) > 0:\n",
    "      mails_count+=1\n",
    "      user_corpus.append(complete_message.lower())\n",
    "  elif (mail_start == 1) & (body_start == 1) & (not(line.startswith('Content-')) ):\n",
    "    message.append(line)\n",
    "  else:\n",
    "    continue\n",
    "\n",
    "print(mails_count, ' user mails read')"
   ]
  },
  {
   "cell_type": "markdown",
   "metadata": {
    "colab_type": "text",
    "id": "XyoKcNjftbFy"
   },
   "source": [
    "### Write corpus to file"
   ]
  },
  {
   "cell_type": "code",
   "execution_count": 0,
   "metadata": {
    "colab": {},
    "colab_type": "code",
    "id": "fEsriEL67gu7"
   },
   "outputs": [],
   "source": [
    "with open(user_corpus_file_location, 'w') as f:\n",
    "  for item in user_corpus:\n",
    "    f.write(\"%s\\n\" % item)"
   ]
  },
  {
   "cell_type": "markdown",
   "metadata": {
    "colab_type": "text",
    "id": "w7KgDBN2Dex4"
   },
   "source": [
    "# Load data"
   ]
  },
  {
   "cell_type": "markdown",
   "metadata": {
    "colab_type": "text",
    "id": "LY_OCT0qDpTD"
   },
   "source": [
    "## Business corpus"
   ]
  },
  {
   "cell_type": "code",
   "execution_count": 0,
   "metadata": {
    "colab": {},
    "colab_type": "code",
    "id": "R0KTh7CnKCKE"
   },
   "outputs": [],
   "source": [
    "business_corpus = []\n",
    "with open(business_corpus_file_location, 'r') as f:\n",
    "  for line in f:\n",
    "    business_corpus.append(line.strip())"
   ]
  },
  {
   "cell_type": "markdown",
   "metadata": {
    "colab_type": "text",
    "id": "-O8EaEFyDrb5"
   },
   "source": [
    "## User mails corpus"
   ]
  },
  {
   "cell_type": "code",
   "execution_count": 0,
   "metadata": {
    "colab": {},
    "colab_type": "code",
    "id": "H3lbxQaS9duV"
   },
   "outputs": [],
   "source": [
    "user_corpus = []\n",
    "with open(user_corpus_file_location, 'r') as f:\n",
    "  for line in f:\n",
    "    user_corpus.append(line.strip())"
   ]
  },
  {
   "cell_type": "markdown",
   "metadata": {
    "colab_type": "text",
    "id": "AzBDOeDO2kbJ"
   },
   "source": [
    "## Analysis"
   ]
  },
  {
   "cell_type": "code",
   "execution_count": 91,
   "metadata": {
    "colab": {
     "base_uri": "https://localhost:8080/",
     "height": 153
    },
    "colab_type": "code",
    "executionInfo": {
     "elapsed": 1210,
     "status": "ok",
     "timestamp": 1587272570506,
     "user": {
      "displayName": "Skand Upmanyu",
      "photoUrl": "https://lh3.googleusercontent.com/a-/AOh14Gj-g95eci1Yvn_QJOqNQYOERaxoC-FzCYgR-r71VA0=s64",
      "userId": "04864269473795038748"
     },
     "user_tz": 240
    },
    "id": "isNFwDZ22j91",
    "outputId": "433ee076-8f86-49e7-a183-8594ed02c15c"
   },
   "outputs": [
    {
     "name": "stdout",
     "output_type": "stream",
     "text": [
      "No. of words in Business Corpus:  2172779\n",
      "No. of unique words in Business Corpus:  84361\n",
      "No. of characters in Business Corpus:  11583356\n",
      "No. of unique characters in Business Corpus:  68\n",
      "No. of words in User Corpus:  29870\n",
      "No. of unique words in User Corpus:  4472\n",
      "No. of characters in Business Corpus:  164941\n",
      "No. of unique characters in Business Corpus:  67\n"
     ]
    }
   ],
   "source": [
    "business_words = []\n",
    "for line in business_corpus:\n",
    "  business_words.extend(line.split(\" \"))\n",
    "\n",
    "user_words = []\n",
    "for line in user_corpus:\n",
    "  user_words.extend(line.split(\" \"))\n",
    "\n",
    "print('No. of words in Business Corpus: ', len(business_words))\n",
    "print('No. of unique words in Business Corpus: ', len(set(business_words)))\n",
    "print('No. of characters in Business Corpus: ', len(' '.join(business_corpus)))\n",
    "print('No. of unique characters in Business Corpus: ', len(set(' '.join(business_corpus))))\n",
    "\n",
    "print('No. of words in User Corpus: ', len(user_words))\n",
    "print('No. of unique words in User Corpus: ', len(set(user_words)))\n",
    "print('No. of characters in Business Corpus: ', len(' '.join(user_corpus)))\n",
    "print('No. of unique characters in Business Corpus: ', len(set(' '.join(user_corpus))))"
   ]
  },
  {
   "cell_type": "markdown",
   "metadata": {
    "colab_type": "text",
    "id": "CMp7Uo2jEIfp"
   },
   "source": [
    "\n",
    "# Data preparation"
   ]
  },
  {
   "cell_type": "markdown",
   "metadata": {
    "colab_type": "text",
    "id": "_tRTWRZXFAcm"
   },
   "source": [
    "## Unique characters"
   ]
  },
  {
   "cell_type": "code",
   "execution_count": 92,
   "metadata": {
    "colab": {
     "base_uri": "https://localhost:8080/",
     "height": 34
    },
    "colab_type": "code",
    "executionInfo": {
     "elapsed": 972,
     "status": "ok",
     "timestamp": 1587272570738,
     "user": {
      "displayName": "Skand Upmanyu",
      "photoUrl": "https://lh3.googleusercontent.com/a-/AOh14Gj-g95eci1Yvn_QJOqNQYOERaxoC-FzCYgR-r71VA0=s64",
      "userId": "04864269473795038748"
     },
     "user_tz": 240
    },
    "id": "G23mvd0NzoWl",
    "outputId": "9d6f0977-3203-42a6-e2c9-126533453d5f"
   },
   "outputs": [
    {
     "name": "stdout",
     "output_type": "stream",
     "text": [
      "No. of unique characters in corpus: 70\n"
     ]
    }
   ],
   "source": [
    "chars = sorted(list(set(' '.join(business_corpus) +  ' '.join(user_corpus))))\n",
    "char_indices = dict((c, i) for i, c in enumerate(chars))\n",
    "indices_char = dict((i, c) for i, c in enumerate(chars))\n",
    "\n",
    "print(f'No. of unique characters in corpus: {len(chars)}')"
   ]
  },
  {
   "cell_type": "markdown",
   "metadata": {
    "colab_type": "text",
    "id": "EtwHkk2YFEC1"
   },
   "source": [
    "## Prepare sequences"
   ]
  },
  {
   "cell_type": "markdown",
   "metadata": {
    "colab_type": "text",
    "id": "TVjEskoLdNpY"
   },
   "source": [
    "### Configurations"
   ]
  },
  {
   "cell_type": "code",
   "execution_count": 0,
   "metadata": {
    "colab": {},
    "colab_type": "code",
    "id": "9yT79TbndMvF"
   },
   "outputs": [],
   "source": [
    "SEQUENCE_LENGTH = 100\n",
    "step = 1\n",
    "min_length = 10"
   ]
  },
  {
   "cell_type": "markdown",
   "metadata": {
    "colab_type": "text",
    "id": "XD92zJr5GyzU"
   },
   "source": [
    "### Function"
   ]
  },
  {
   "cell_type": "code",
   "execution_count": 0,
   "metadata": {
    "colab": {},
    "colab_type": "code",
    "id": "yRx5NBmaKHH_"
   },
   "outputs": [],
   "source": [
    "def prepare_sequences(corpus, SEQUENCE_LENGTH=SEQUENCE_LENGTH, step=step, min_length=min_length):\n",
    "  sentences = []\n",
    "  next_chars = []\n",
    "  for line in corpus:\n",
    "    for i in range(1, len(line), step):\n",
    "      sentence = line[:i]\n",
    "      if len(sentence) >= min_length:\n",
    "        if len(sentence) < SEQUENCE_LENGTH:\n",
    "          sentence = \" \"*(SEQUENCE_LENGTH - len(sentence)) + sentence\n",
    "        if len(sentence) > SEQUENCE_LENGTH:\n",
    "          sentence = sentence[-SEQUENCE_LENGTH:]\n",
    "        next_char = line[i]\n",
    "        sentences.append(sentence)\n",
    "        next_chars.append(next_char)\n",
    "      else:\n",
    "        continue\n",
    "  print(f'Total number of training examples: {len(sentences)}')\n",
    "\n",
    "  return sentences, next_chars"
   ]
  },
  {
   "cell_type": "markdown",
   "metadata": {
    "colab_type": "text",
    "id": "Z2X-EccPG0f2"
   },
   "source": [
    "### Business data"
   ]
  },
  {
   "cell_type": "code",
   "execution_count": 95,
   "metadata": {
    "colab": {
     "base_uri": "https://localhost:8080/",
     "height": 34
    },
    "colab_type": "code",
    "executionInfo": {
     "elapsed": 11915,
     "status": "ok",
     "timestamp": 1587272582939,
     "user": {
      "displayName": "Skand Upmanyu",
      "photoUrl": "https://lh3.googleusercontent.com/a-/AOh14Gj-g95eci1Yvn_QJOqNQYOERaxoC-FzCYgR-r71VA0=s64",
      "userId": "04864269473795038748"
     },
     "user_tz": 240
    },
    "id": "DZ1qxjBnGUha",
    "outputId": "baeee89b-f2c5-43dc-f531-467ac480a8bf"
   },
   "outputs": [
    {
     "name": "stdout",
     "output_type": "stream",
     "text": [
      "Total number of training examples: 9564053\n"
     ]
    }
   ],
   "source": [
    "business_sentences, business_next_chars = prepare_sequences(business_corpus, SEQUENCE_LENGTH=SEQUENCE_LENGTH, step=step, min_length=min_length)"
   ]
  },
  {
   "cell_type": "markdown",
   "metadata": {
    "colab_type": "text",
    "id": "4oDD-DowG2Up"
   },
   "source": [
    "### User data"
   ]
  },
  {
   "cell_type": "code",
   "execution_count": 96,
   "metadata": {
    "colab": {
     "base_uri": "https://localhost:8080/",
     "height": 34
    },
    "colab_type": "code",
    "executionInfo": {
     "elapsed": 11556,
     "status": "ok",
     "timestamp": 1587272582941,
     "user": {
      "displayName": "Skand Upmanyu",
      "photoUrl": "https://lh3.googleusercontent.com/a-/AOh14Gj-g95eci1Yvn_QJOqNQYOERaxoC-FzCYgR-r71VA0=s64",
      "userId": "04864269473795038748"
     },
     "user_tz": 240
    },
    "id": "54yYBZNPGnpJ",
    "outputId": "65b3aaf5-9b7d-4857-dce9-98adb1d7cf18"
   },
   "outputs": [
    {
     "name": "stdout",
     "output_type": "stream",
     "text": [
      "Total number of training examples: 159275\n"
     ]
    }
   ],
   "source": [
    "user_sentences, user_next_chars = prepare_sequences(user_corpus, SEQUENCE_LENGTH=SEQUENCE_LENGTH, step=step, min_length=min_length)"
   ]
  },
  {
   "cell_type": "markdown",
   "metadata": {
    "colab_type": "text",
    "id": "5R7YA7kUG44b"
   },
   "source": [
    "## Train validation split"
   ]
  },
  {
   "cell_type": "markdown",
   "metadata": {
    "colab_type": "text",
    "id": "VV5kuDccHUeR"
   },
   "source": [
    "### Function"
   ]
  },
  {
   "cell_type": "code",
   "execution_count": 0,
   "metadata": {
    "colab": {},
    "colab_type": "code",
    "id": "gpVQomGGCmXJ"
   },
   "outputs": [],
   "source": [
    "def train_val_test_split(sentences, next_chars, val_perc = 0.05, test_perc = 0.05):\n",
    "  data = list(zip(sentences, next_chars))\n",
    "  random.seed(4)\n",
    "  random.shuffle(data)\n",
    "  sentences_s, next_chars_s = zip(*data)\n",
    "  train_sentences = sentences_s[:int((1 - (val_perc + test_perc))*len(sentences_s))]\n",
    "  train_next_chars = next_chars_s[:int((1 - (val_perc + test_perc))*len(sentences_s))]\n",
    "  val_sentences = sentences_s[int((1 - (val_perc + test_perc))*len(sentences_s)): int((1 - (test_perc))*len(sentences_s))]\n",
    "  val_next_chars = next_chars_s[int((1 - (val_perc + test_perc))*len(sentences_s)): int((1 - (test_perc))*len(sentences_s))]\n",
    "  test_sentences = sentences_s[int((1 - (test_perc))*len(sentences_s)):]\n",
    "  test_next_chars = next_chars_s[int((1 - (test_perc))*len(sentences_s)):]\n",
    "  return train_sentences, train_next_chars, val_sentences, val_next_chars, test_sentences, test_next_chars"
   ]
  },
  {
   "cell_type": "markdown",
   "metadata": {
    "colab_type": "text",
    "id": "mFhZfJiOHWIv"
   },
   "source": [
    "### Business data"
   ]
  },
  {
   "cell_type": "code",
   "execution_count": 98,
   "metadata": {
    "colab": {
     "base_uri": "https://localhost:8080/",
     "height": 68
    },
    "colab_type": "code",
    "executionInfo": {
     "elapsed": 60651,
     "status": "ok",
     "timestamp": 1587272633366,
     "user": {
      "displayName": "Skand Upmanyu",
      "photoUrl": "https://lh3.googleusercontent.com/a-/AOh14Gj-g95eci1Yvn_QJOqNQYOERaxoC-FzCYgR-r71VA0=s64",
      "userId": "04864269473795038748"
     },
     "user_tz": 240
    },
    "id": "R7HSLeGVHby2",
    "outputId": "8b7af27b-f7cb-42dd-ca2d-5443a4008fb2"
   },
   "outputs": [
    {
     "name": "stdout",
     "output_type": "stream",
     "text": [
      "Training observations (business):  8607647\n",
      "Validation observations (business):  478203\n",
      "Test observations (business):  478203\n"
     ]
    }
   ],
   "source": [
    "business_train_sentences, business_train_next_chars, \\\n",
    "business_val_sentences, business_val_next_chars, \\\n",
    "business_test_sentences, business_test_next_chars = train_val_test_split(business_sentences, business_next_chars, val_perc = 0.05, test_perc = 0.05)\n",
    "\n",
    "print(\"Training observations (business): \", len(business_train_sentences))\n",
    "print(\"Validation observations (business): \", len(business_val_sentences))\n",
    "print(\"Test observations (business): \", len(business_test_sentences))"
   ]
  },
  {
   "cell_type": "markdown",
   "metadata": {
    "colab_type": "text",
    "id": "rjiAUV4mHYd_"
   },
   "source": [
    "### User data"
   ]
  },
  {
   "cell_type": "code",
   "execution_count": 99,
   "metadata": {
    "colab": {
     "base_uri": "https://localhost:8080/",
     "height": 68
    },
    "colab_type": "code",
    "executionInfo": {
     "elapsed": 61426,
     "status": "ok",
     "timestamp": 1587272635027,
     "user": {
      "displayName": "Skand Upmanyu",
      "photoUrl": "https://lh3.googleusercontent.com/a-/AOh14Gj-g95eci1Yvn_QJOqNQYOERaxoC-FzCYgR-r71VA0=s64",
      "userId": "04864269473795038748"
     },
     "user_tz": 240
    },
    "id": "sLIIg32LHcIK",
    "outputId": "d15c2c37-cd0b-4d56-dc98-b631dc9ba362"
   },
   "outputs": [
    {
     "name": "stdout",
     "output_type": "stream",
     "text": [
      "Training observations (user):  143347\n",
      "Validation observations (user):  7964\n",
      "Test observations (user):  7964\n"
     ]
    }
   ],
   "source": [
    "user_train_sentences, user_train_next_chars, \\\n",
    "user_val_sentences, user_val_next_chars, \\\n",
    "user_test_sentences, user_test_next_chars, = train_val_test_split(user_sentences, user_next_chars, val_perc = 0.05, test_perc = 0.05)\n",
    "\n",
    "print(\"Training observations (user): \", len(user_train_sentences))\n",
    "print(\"Validation observations (user): \", len(user_val_sentences))\n",
    "print(\"Test observations (user): \", len(user_test_sentences))"
   ]
  },
  {
   "cell_type": "markdown",
   "metadata": {
    "colab_type": "text",
    "id": "ZM_Pjzk3H3Qo"
   },
   "source": [
    "## Prepare tensor data"
   ]
  },
  {
   "cell_type": "markdown",
   "metadata": {
    "colab_type": "text",
    "id": "lyeQEDu7H62n"
   },
   "source": [
    "### Function"
   ]
  },
  {
   "cell_type": "code",
   "execution_count": 0,
   "metadata": {
    "colab": {},
    "colab_type": "code",
    "id": "lUgdI-MKKICW"
   },
   "outputs": [],
   "source": [
    "def prep_tensor_data(sentences, next_chars, chars=chars, SEQUENCE_LENGTH=SEQUENCE_LENGTH):\n",
    "  X = np.zeros((len(sentences), SEQUENCE_LENGTH))\n",
    "  y = np.zeros((len(sentences), len(chars)), dtype=np.bool)\n",
    "  for i, sentence in enumerate(sentences):\n",
    "    for j, char in enumerate(sentence):\n",
    "      X[i, j] = char_indices[char]\n",
    "    y[i, char_indices[next_chars[i]]] = 1\n",
    "  return X, y"
   ]
  },
  {
   "cell_type": "markdown",
   "metadata": {
    "colab_type": "text",
    "id": "cppMN6hp7vTb"
   },
   "source": [
    "### Generator"
   ]
  },
  {
   "cell_type": "code",
   "execution_count": 0,
   "metadata": {
    "colab": {},
    "colab_type": "code",
    "id": "MpDWS9kN6lgt"
   },
   "outputs": [],
   "source": [
    "def generator(train_sentences, train_next_chars, batch_size):\n",
    "\n",
    "  samples_per_epoch = len(train_sentences)\n",
    "  number_of_batches = samples_per_epoch/batch_size\n",
    "  counter = 0\n",
    "\n",
    "  while True:\n",
    "\n",
    "    X_batch, y_batch = prep_tensor_data(train_sentences[batch_size*counter : batch_size*(counter+1)], train_next_chars[batch_size*counter : batch_size*(counter+1)])\n",
    "    counter += 1\n",
    "    yield X_batch, y_batch\n",
    "\n",
    "    #restart counter to yeild data in the next epoch as well\n",
    "    if counter >= number_of_batches:\n",
    "        counter = 0"
   ]
  },
  {
   "cell_type": "markdown",
   "metadata": {
    "colab_type": "text",
    "id": "4eplLcteIi2L"
   },
   "source": [
    "# Learning from business mails"
   ]
  },
  {
   "cell_type": "markdown",
   "metadata": {
    "colab_type": "text",
    "id": "gEzqxOVxI0vN"
   },
   "source": [
    "## Define model"
   ]
  },
  {
   "cell_type": "code",
   "execution_count": 25,
   "metadata": {
    "colab": {
     "base_uri": "https://localhost:8080/",
     "height": 867
    },
    "colab_type": "code",
    "executionInfo": {
     "elapsed": 2207,
     "status": "ok",
     "timestamp": 1587249989275,
     "user": {
      "displayName": "Skand Upmanyu",
      "photoUrl": "https://lh3.googleusercontent.com/a-/AOh14Gj-g95eci1Yvn_QJOqNQYOERaxoC-FzCYgR-r71VA0=s64",
      "userId": "04864269473795038748"
     },
     "user_tz": 240
    },
    "id": "YTm6A0JXOZqu",
    "outputId": "2471bf94-3ae7-4de1-cee6-d876a74832d2"
   },
   "outputs": [
    {
     "name": "stdout",
     "output_type": "stream",
     "text": [
      "Model: \"model_1\"\n",
      "__________________________________________________________________________________________________\n",
      "Layer (type)                    Output Shape         Param #     Connected to                     \n",
      "==================================================================================================\n",
      "Input_layer (InputLayer)        [(None, 100)]        0                                            \n",
      "__________________________________________________________________________________________________\n",
      "Embedding_layer (Embedding)     (None, 100, 64)      4480        Input_layer[0][0]                \n",
      "__________________________________________________________________________________________________\n",
      "1D_Convolution_layer_1 (Conv1D) (None, 96, 50)       16050       Embedding_layer[0][0]            \n",
      "__________________________________________________________________________________________________\n",
      "1D_Convolution_layer_2 (Conv1D) (None, 96, 50)       16050       Embedding_layer[0][0]            \n",
      "__________________________________________________________________________________________________\n",
      "1D_Convolution_layer_3 (Conv1D) (None, 96, 50)       16050       Embedding_layer[0][0]            \n",
      "__________________________________________________________________________________________________\n",
      "Batch_normalization_1 (BatchNor (None, 96, 50)       200         1D_Convolution_layer_1[0][0]     \n",
      "__________________________________________________________________________________________________\n",
      "Batch_normalization_2 (BatchNor (None, 96, 50)       200         1D_Convolution_layer_2[0][0]     \n",
      "__________________________________________________________________________________________________\n",
      "Batch_normalization_3 (BatchNor (None, 96, 50)       200         1D_Convolution_layer_3[0][0]     \n",
      "__________________________________________________________________________________________________\n",
      "GRU_1 (GRU)                     (None, 96, 128)      69120       Batch_normalization_1[0][0]      \n",
      "__________________________________________________________________________________________________\n",
      "GRU_2 (GRU)                     (None, 96, 128)      69120       Batch_normalization_2[0][0]      \n",
      "__________________________________________________________________________________________________\n",
      "GRU_3 (GRU)                     (None, 96, 128)      69120       Batch_normalization_3[0][0]      \n",
      "__________________________________________________________________________________________________\n",
      "Batch_normalization_4 (BatchNor (None, 96, 128)      512         GRU_1[0][0]                      \n",
      "__________________________________________________________________________________________________\n",
      "Batch_normalization_5 (BatchNor (None, 96, 128)      512         GRU_2[0][0]                      \n",
      "__________________________________________________________________________________________________\n",
      "Batch_normalization_6 (BatchNor (None, 96, 128)      512         GRU_3[0][0]                      \n",
      "__________________________________________________________________________________________________\n",
      "GRU_4 (GRU)                     (None, 64)           37248       Batch_normalization_4[0][0]      \n",
      "__________________________________________________________________________________________________\n",
      "GRU_5 (GRU)                     (None, 64)           37248       Batch_normalization_5[0][0]      \n",
      "__________________________________________________________________________________________________\n",
      "GRU_6 (GRU)                     (None, 64)           37248       Batch_normalization_6[0][0]      \n",
      "__________________________________________________________________________________________________\n",
      "Concatenate_layer (Concatenate) (None, 192)          0           GRU_4[0][0]                      \n",
      "                                                                 GRU_5[0][0]                      \n",
      "                                                                 GRU_6[0][0]                      \n",
      "__________________________________________________________________________________________________\n",
      "Batch_normalization_7 (BatchNor (None, 192)          768         Concatenate_layer[0][0]          \n",
      "__________________________________________________________________________________________________\n",
      "Dense_layer (Dense)             (None, 70)           13510       Batch_normalization_7[0][0]      \n",
      "==================================================================================================\n",
      "Total params: 388,148\n",
      "Trainable params: 386,696\n",
      "Non-trainable params: 1,452\n",
      "__________________________________________________________________________________________________\n"
     ]
    }
   ],
   "source": [
    "input_ = tf.keras.Input(shape=(SEQUENCE_LENGTH), name='Input_layer')\n",
    "embeddings = layers.Embedding(input_dim=len(chars), output_dim=64, input_length=SEQUENCE_LENGTH, name=\"Embedding_layer\")(input_)\n",
    "\n",
    "x1 = layers.Conv1D(filters=50, kernel_size=5, strides=1, padding='valid', name=\"1D_Convolution_layer_1\")(embeddings)\n",
    "x1 = layers.BatchNormalization(name=\"Batch_normalization_1\")(x1)\n",
    "x1 = layers.GRU(units=128, return_sequences=True, name=\"GRU_1\")(x1)\n",
    "x1 = layers.BatchNormalization(name=\"Batch_normalization_4\")(x1)\n",
    "out1 = layers.GRU(units=64, name=\"GRU_4\")(x1)\n",
    "\n",
    "x2 = layers.Conv1D(filters=50, kernel_size=5, strides=1, padding='valid', name=\"1D_Convolution_layer_2\")(embeddings)\n",
    "x2 = layers.BatchNormalization(name=\"Batch_normalization_2\")(x2)\n",
    "x2 = layers.GRU(units=128, return_sequences=True, name=\"GRU_2\")(x2)\n",
    "x2 = layers.BatchNormalization(name=\"Batch_normalization_5\")(x2)\n",
    "out2 = layers.GRU(units=64, name=\"GRU_5\")(x2)\n",
    "\n",
    "x3 = layers.Conv1D(filters=50, kernel_size=5, strides=1, padding='valid', name=\"1D_Convolution_layer_3\")(embeddings)\n",
    "x3 = layers.BatchNormalization(name=\"Batch_normalization_3\")(x3)\n",
    "x3 = layers.GRU(units=128, return_sequences=True, name=\"GRU_3\")(x3)\n",
    "x3 = layers.BatchNormalization(name=\"Batch_normalization_6\")(x3)\n",
    "out3 = layers.GRU(units=64, name=\"GRU_6\")(x3)\n",
    "\n",
    "out = layers.Concatenate(name=\"Concatenate_layer\")([out1, out2, out3])\n",
    "out = layers.BatchNormalization(name=\"Batch_normalization_7\")(out)\n",
    "out = layers.Dense(len(chars), activation = \"softmax\", name=\"Dense_layer\")(out)\n",
    "\n",
    "model = tf.keras.Model(inputs=input_, outputs=out)\n",
    "\n",
    "optimizer = tf.keras.optimizers.Adam(lr=0.0005)\n",
    "loss = tf.keras.losses.categorical_crossentropy\n",
    "model.compile(loss=loss, optimizer=optimizer, metrics=['accuracy'])\n",
    "\n",
    "model.summary()"
   ]
  },
  {
   "cell_type": "markdown",
   "metadata": {
    "colab_type": "text",
    "id": "nqb_AKRGI219"
   },
   "source": [
    "## Train model"
   ]
  },
  {
   "cell_type": "code",
   "execution_count": 0,
   "metadata": {
    "colab": {
     "base_uri": "https://localhost:8080/",
     "height": 357
    },
    "colab_type": "code",
    "executionInfo": {
     "elapsed": 31439424,
     "status": "ok",
     "timestamp": 1587225489920,
     "user": {
      "displayName": "Skand Upmanyu",
      "photoUrl": "https://lh3.googleusercontent.com/a-/AOh14Gj-g95eci1Yvn_QJOqNQYOERaxoC-FzCYgR-r71VA0=s64",
      "userId": "04864269473795038748"
     },
     "user_tz": 240
    },
    "id": "uTC69TPN6vAM",
    "outputId": "3f8c1725-897a-4356-815a-e7f246458d8b"
   },
   "outputs": [
    {
     "name": "stdout",
     "output_type": "stream",
     "text": [
      "Epoch 1/10\n",
      "67247/67247 [==============================] - 3155s 47ms/step - loss: 1.3706 - accuracy: 0.5998 - val_loss: 1.2509 - val_accuracy: 0.6291\n",
      "Epoch 2/10\n",
      "67247/67247 [==============================] - 3170s 47ms/step - loss: 1.2314 - accuracy: 0.6341 - val_loss: 1.2071 - val_accuracy: 0.6402\n",
      "Epoch 3/10\n",
      "67247/67247 [==============================] - 3174s 47ms/step - loss: 1.1968 - accuracy: 0.6431 - val_loss: 1.1876 - val_accuracy: 0.6459\n",
      "Epoch 4/10\n",
      "67247/67247 [==============================] - 3149s 47ms/step - loss: 1.1770 - accuracy: 0.6483 - val_loss: 1.1748 - val_accuracy: 0.6495\n",
      "Epoch 5/10\n",
      "67247/67247 [==============================] - 3133s 47ms/step - loss: 1.1637 - accuracy: 0.6517 - val_loss: 1.1662 - val_accuracy: 0.6516\n",
      "Epoch 6/10\n",
      "67247/67247 [==============================] - 3125s 46ms/step - loss: 1.1539 - accuracy: 0.6542 - val_loss: 1.1609 - val_accuracy: 0.6533\n",
      "Epoch 7/10\n",
      "67247/67247 [==============================] - 3133s 47ms/step - loss: 1.1465 - accuracy: 0.6564 - val_loss: 1.1570 - val_accuracy: 0.6543\n",
      "Epoch 8/10\n",
      "67247/67247 [==============================] - 3132s 47ms/step - loss: 1.1404 - accuracy: 0.6581 - val_loss: 1.1544 - val_accuracy: 0.6551\n",
      "Epoch 9/10\n",
      "67247/67247 [==============================] - 3123s 46ms/step - loss: 1.1353 - accuracy: 0.6594 - val_loss: 1.1506 - val_accuracy: 0.6559\n",
      "Epoch 10/10\n",
      "67247/67247 [==============================] - 3128s 47ms/step - loss: 1.1311 - accuracy: 0.6605 - val_loss: 1.1483 - val_accuracy: 0.6570\n"
     ]
    }
   ],
   "source": [
    "batch_size = 128\n",
    "business_model_history = model.fit(generator(business_train_sentences, business_train_next_chars, batch_size), validation_data=generator(business_val_sentences, business_val_next_chars, batch_size), steps_per_epoch = math.floor(len(business_train_sentences)/batch_size), validation_steps = math.floor(len(business_val_sentences)/batch_size), epochs = 10).history"
   ]
  },
  {
   "cell_type": "markdown",
   "metadata": {
    "colab_type": "text",
    "id": "Zxg0IlxfO5_D"
   },
   "source": [
    "## Save model"
   ]
  },
  {
   "cell_type": "code",
   "execution_count": 0,
   "metadata": {
    "colab": {},
    "colab_type": "code",
    "id": "BmY4AaIL0A3w"
   },
   "outputs": [],
   "source": [
    "model.save(business_model_save_location)\n",
    "pickle.dump(business_model_history, open(business_model_history_location, \"wb\"))"
   ]
  },
  {
   "cell_type": "markdown",
   "metadata": {
    "colab_type": "text",
    "id": "bHoiBb6ePgCg"
   },
   "source": [
    "## Load model"
   ]
  },
  {
   "cell_type": "code",
   "execution_count": 0,
   "metadata": {
    "colab": {},
    "colab_type": "code",
    "id": "7K690zIT0SMs"
   },
   "outputs": [],
   "source": [
    "model = tf.keras.models.load_model(business_model_save_location)\n",
    "business_model_history = pickle.load(open(business_model_history_location, \"rb\"))"
   ]
  },
  {
   "cell_type": "markdown",
   "metadata": {
    "colab_type": "text",
    "id": "bGDQSyTKPkLR"
   },
   "source": [
    "## Plot accuracy"
   ]
  },
  {
   "cell_type": "code",
   "execution_count": 43,
   "metadata": {
    "colab": {
     "base_uri": "https://localhost:8080/",
     "height": 303
    },
    "colab_type": "code",
    "executionInfo": {
     "elapsed": 432,
     "status": "ok",
     "timestamp": 1587258594981,
     "user": {
      "displayName": "Skand Upmanyu",
      "photoUrl": "https://lh3.googleusercontent.com/a-/AOh14Gj-g95eci1Yvn_QJOqNQYOERaxoC-FzCYgR-r71VA0=s64",
      "userId": "04864269473795038748"
     },
     "user_tz": 240
    },
    "id": "9acBxuQF0TzL",
    "outputId": "7976ce14-7981-4d66-dfe1-131c5062629b"
   },
   "outputs": [
    {
     "data": {
      "image/png": "[encoded data removed]",
      "text/plain": [
       "<Figure size 432x288 with 1 Axes>"
      ]
     },
     "metadata": {
      "needs_background": "light",
      "tags": []
     },
     "output_type": "display_data"
    }
   ],
   "source": [
    "plt.plot(np.arange(1,11), business_model_history['accuracy'], linestyle='--', marker='o', color='grey')\n",
    "plt.plot(np.arange(1,11), business_model_history['val_accuracy'], linestyle='--', marker='o', color='black')\n",
    "plt.xticks(np.arange(1,11))\n",
    "plt.title('Business Model Accuracy')\n",
    "plt.ylabel('Accuracy')\n",
    "plt.xlabel('Epochs')\n",
    "plt.legend(['Training', 'Validation'], loc='lower right');"
   ]
  },
  {
   "cell_type": "markdown",
   "metadata": {
    "colab_type": "text",
    "id": "MevAQpUcPl2r"
   },
   "source": [
    "## Plot loss"
   ]
  },
  {
   "cell_type": "code",
   "execution_count": 44,
   "metadata": {
    "colab": {
     "base_uri": "https://localhost:8080/",
     "height": 303
    },
    "colab_type": "code",
    "executionInfo": {
     "elapsed": 337,
     "status": "ok",
     "timestamp": 1587258598010,
     "user": {
      "displayName": "Skand Upmanyu",
      "photoUrl": "https://lh3.googleusercontent.com/a-/AOh14Gj-g95eci1Yvn_QJOqNQYOERaxoC-FzCYgR-r71VA0=s64",
      "userId": "04864269473795038748"
     },
     "user_tz": 240
    },
    "id": "Rbaq_fKd0VYW",
    "outputId": "59cb924c-7505-4cc4-d8b6-66146d5a2f36"
   },
   "outputs": [
    {
     "data": {
      "image/png": "[encoded data removed]",
      "text/plain": [
       "<Figure size 432x288 with 1 Axes>"
      ]
     },
     "metadata": {
      "needs_background": "light",
      "tags": []
     },
     "output_type": "display_data"
    }
   ],
   "source": [
    "plt.plot(np.arange(1,11), business_model_history['loss'], linestyle='--', marker='o', color='grey')\n",
    "plt.plot(np.arange(1,11), business_model_history['val_loss'], linestyle='--', marker='o', color='black')\n",
    "plt.xticks(np.arange(1,11))\n",
    "plt.title('Business Model Loss')\n",
    "plt.ylabel('Loss')\n",
    "plt.xlabel('Epochs')\n",
    "plt.legend(['Training', 'Validation'], loc='top right');"
   ]
  },
  {
   "cell_type": "markdown",
   "metadata": {
    "colab_type": "text",
    "id": "dxxZ7GU_eQte"
   },
   "source": [
    "## Test performance"
   ]
  },
  {
   "cell_type": "code",
   "execution_count": 37,
   "metadata": {
    "colab": {
     "base_uri": "https://localhost:8080/",
     "height": 68
    },
    "colab_type": "code",
    "executionInfo": {
     "elapsed": 65534,
     "status": "ok",
     "timestamp": 1587251705125,
     "user": {
      "displayName": "Skand Upmanyu",
      "photoUrl": "https://lh3.googleusercontent.com/a-/AOh14Gj-g95eci1Yvn_QJOqNQYOERaxoC-FzCYgR-r71VA0=s64",
      "userId": "04864269473795038748"
     },
     "user_tz": 240
    },
    "id": "xUDAxfZ4eP1z",
    "outputId": "36afda92-3055-4495-8d75-3ff13664597a"
   },
   "outputs": [
    {
     "name": "stdout",
     "output_type": "stream",
     "text": [
      "3735/3735 [==============================] - 65s 17ms/step - loss: 1.1482 - accuracy: 0.6572\n",
      "Test loss on business model:  1.1481597423553467\n",
      "Test accuracy on business model:  0.6572142839431763\n"
     ]
    }
   ],
   "source": [
    "batch_size = 128\n",
    "business_test_loss, business_test_accuracy = model.evaluate(generator(business_test_sentences, business_test_next_chars, batch_size), steps = math.floor(len(business_test_sentences)/batch_size))\n",
    "print(\"Test loss on business model: \", business_test_loss)\n",
    "print(\"Test accuracy on business model: \", business_test_accuracy)"
   ]
  },
  {
   "cell_type": "markdown",
   "metadata": {
    "colab_type": "text",
    "id": "iDk8i5m7Pn5B"
   },
   "source": [
    "# Predictions"
   ]
  },
  {
   "cell_type": "markdown",
   "metadata": {
    "colab_type": "text",
    "id": "-ESCJGxbSUbB"
   },
   "source": [
    "## Helper functions"
   ]
  },
  {
   "cell_type": "markdown",
   "metadata": {
    "colab_type": "text",
    "id": "0ilswO4eP2-W"
   },
   "source": [
    "### Pad and create tensor"
   ]
  },
  {
   "cell_type": "code",
   "execution_count": 0,
   "metadata": {
    "colab": {},
    "colab_type": "code",
    "id": "v0CFWVmM0ZU_"
   },
   "outputs": [],
   "source": [
    "def prepare_input(text):\n",
    "  if len(text) < SEQUENCE_LENGTH:\n",
    "    text = ' '*(SEQUENCE_LENGTH - len(text)) + text\n",
    "  elif len(text) > SEQUENCE_LENGTH:\n",
    "    text = text[-SEQUENCE_LENGTH:]\n",
    "  x = np.zeros((1, SEQUENCE_LENGTH))\n",
    "  for j, char in enumerate(text):\n",
    "      x[0, j] = char_indices[char]\n",
    "  \n",
    "  return x"
   ]
  },
  {
   "cell_type": "markdown",
   "metadata": {
    "colab_type": "text",
    "id": "xJeDIat2P8f9"
   },
   "source": [
    "### Top 5 predictions"
   ]
  },
  {
   "cell_type": "code",
   "execution_count": 0,
   "metadata": {
    "colab": {},
    "colab_type": "code",
    "id": "q0AcDKDFPwj0"
   },
   "outputs": [],
   "source": [
    "def sample(preds, top_n=3):\n",
    "    preds = np.asarray(preds).astype('float64')\n",
    "    preds = np.log(preds)\n",
    "    exp_preds = np.exp(preds)\n",
    "    preds = exp_preds / np.sum(exp_preds)\n",
    "    \n",
    "    return heapq.nlargest(top_n, range(len(preds)), preds.take)"
   ]
  },
  {
   "cell_type": "markdown",
   "metadata": {
    "colab_type": "text",
    "id": "3lG6XsnbSKOk"
   },
   "source": [
    "### Predict till word completion"
   ]
  },
  {
   "cell_type": "code",
   "execution_count": 0,
   "metadata": {
    "colab": {},
    "colab_type": "code",
    "id": "ch1I303L0dE6"
   },
   "outputs": [],
   "source": [
    "def predict_completion(text):\n",
    "    original_text = text\n",
    "    generated = text\n",
    "    completion = ''\n",
    "    while True:\n",
    "        x = prepare_input(text)\n",
    "        preds = model.predict(x, verbose=0)[0]\n",
    "        next_index = sample(preds, top_n=1)[0]\n",
    "        next_char = indices_char[next_index]\n",
    "        text = text[1:] + next_char\n",
    "        completion += next_char\n",
    "        \n",
    "        if len(original_text + completion) + 2 > len(original_text) and next_char == ' ':\n",
    "            return completion"
   ]
  },
  {
   "cell_type": "markdown",
   "metadata": {
    "colab_type": "text",
    "id": "YVfb1dk-SQL9"
   },
   "source": [
    "## Main function"
   ]
  },
  {
   "cell_type": "code",
   "execution_count": 0,
   "metadata": {
    "colab": {},
    "colab_type": "code",
    "id": "mp8xr-Sk0ee_"
   },
   "outputs": [],
   "source": [
    "def predict_completions(text, n=3):\n",
    "    x = prepare_input(text)\n",
    "    preds = model.predict(x, verbose=0)[0]\n",
    "    next_indices = sample(preds, n)\n",
    "    return [indices_char[idx] + predict_completion(text[1:] + indices_char[idx]) for idx in next_indices]"
   ]
  },
  {
   "cell_type": "markdown",
   "metadata": {
    "colab_type": "text",
    "id": "G1yxgagISiq4"
   },
   "source": [
    "## Input text"
   ]
  },
  {
   "cell_type": "code",
   "execution_count": 0,
   "metadata": {
    "colab": {},
    "colab_type": "code",
    "id": "-gG_b3tcCJZ9"
   },
   "outputs": [],
   "source": [
    "text = [\"Can you let \",\n",
    "        \"Can you let me \",\n",
    "        \"Can you let me know \",\n",
    "        \"Can you let me know if \",\n",
    "        \"Can you let me know if you \",\n",
    "        \"Can you let me know if you have \",\n",
    "        \"Can you let me know if you have compl\",\n",
    "        \"Can you let me know if you have completed \",\n",
    "        \"Can you let me know if you have completed the \",\n",
    "        \"Can you let me know if you have completed the proj\",\n",
    "        \"Can you let me know if you have completed the project \",\n",
    "        \"Can you let me know if you have completed the project that \",\n",
    "        \"Can you let me know if you have completed the project that we \",\n",
    "        \"Can you let me know if you have completed the project that we disc\"]"
   ]
  },
  {
   "cell_type": "markdown",
   "metadata": {
    "colab_type": "text",
    "id": "gtAZhLCRSk-1"
   },
   "source": [
    "## Predict"
   ]
  },
  {
   "cell_type": "code",
   "execution_count": 83,
   "metadata": {
    "colab": {
     "base_uri": "https://localhost:8080/",
     "height": 731
    },
    "colab_type": "code",
    "executionInfo": {
     "elapsed": 14194,
     "status": "ok",
     "timestamp": 1587259605706,
     "user": {
      "displayName": "Skand Upmanyu",
      "photoUrl": "https://lh3.googleusercontent.com/a-/AOh14Gj-g95eci1Yvn_QJOqNQYOERaxoC-FzCYgR-r71VA0=s64",
      "userId": "04864269473795038748"
     },
     "user_tz": 240
    },
    "id": "udD_oXdj0hqa",
    "outputId": "ff40de1b-2722-4028-e33d-9f90150e0306"
   },
   "outputs": [
    {
     "name": "stdout",
     "output_type": "stream",
     "text": [
      "can you let \n",
      "['me ', 'him ', 'you ', 'them ', 'change ']\n",
      "\n",
      "can you let me \n",
      "['know ', 'see ', 'have ', 'the ', 'check ']\n",
      "\n",
      "can you let me know \n",
      "['if ', 'what ', 'how ', 'and ', 'that ']\n",
      "\n",
      "can you let me know if \n",
      "['you ', 'this ', 'i ', 'any ', 'we ']\n",
      "\n",
      "can you let me know if you \n",
      "['have ', 'need ', 'want ', 'can ', 'are ']\n",
      "\n",
      "can you let me know if you have \n",
      "['any ', 'questions ', 'some ', 'to ', 'not ']\n",
      "\n",
      "can you let me know if you have compl\n",
      "['eted ', 'icated ', 'y ', 'ained ', 'oyed ']\n",
      "\n",
      "can you let me know if you have completed \n",
      "['the ', 'and ', 'in ', 'on ', 'by ']\n",
      "\n",
      "can you let me know if you have completed the \n",
      "['contract ', 'process ', 'state ', 'following ', 'deal ']\n",
      "\n",
      "can you let me know if you have completed the proj\n",
      "['ect ', 'ust ', 'ose ', 'icing ', 'dc ']\n",
      "\n",
      "can you let me know if you have completed the project \n",
      "['for ', 'in ', 'when ', 'and ', 'contract ']\n",
      "\n",
      "can you let me know if you have completed the project that \n",
      "['we ', 'the ', 'i ', 'you ', 'he ']\n",
      "\n",
      "can you let me know if you have completed the project that we \n",
      "['will ', 'have ', 'can ', 'are ', 'should ']\n",
      "\n",
      "can you let me know if you have completed the project that we disc\n",
      "['ussed ', 'overed ', 'repent ', 'less ', 'ase ']\n",
      "\n"
     ]
    }
   ],
   "source": [
    "for q in text:\n",
    "    seq = q.lower()\n",
    "    print(seq)\n",
    "    print(predict_completions(seq, 5))\n",
    "    print()"
   ]
  },
  {
   "cell_type": "markdown",
   "metadata": {
    "colab_type": "text",
    "id": "2bRe4B1qSvV7"
   },
   "source": [
    "# Personalization using user mails"
   ]
  },
  {
   "cell_type": "code",
   "execution_count": 49,
   "metadata": {
    "colab": {
     "base_uri": "https://localhost:8080/",
     "height": 187
    },
    "colab_type": "code",
    "executionInfo": {
     "elapsed": 280245,
     "status": "ok",
     "timestamp": 1587253123806,
     "user": {
      "displayName": "Skand Upmanyu",
      "photoUrl": "https://lh3.googleusercontent.com/a-/AOh14Gj-g95eci1Yvn_QJOqNQYOERaxoC-FzCYgR-r71VA0=s64",
      "userId": "04864269473795038748"
     },
     "user_tz": 240
    },
    "id": "mMh7N8iY-tvO",
    "outputId": "e7e7d81c-227d-4e3c-a442-fd149908489d"
   },
   "outputs": [
    {
     "name": "stdout",
     "output_type": "stream",
     "text": [
      "Epoch 1/5\n",
      "1119/1119 [==============================] - 55s 49ms/step - loss: 1.2173 - accuracy: 0.6585 - val_loss: 1.1338 - val_accuracy: 0.6779\n",
      "Epoch 2/5\n",
      "1119/1119 [==============================] - 53s 48ms/step - loss: 1.0240 - accuracy: 0.7066 - val_loss: 1.0849 - val_accuracy: 0.6923\n",
      "Epoch 3/5\n",
      "1119/1119 [==============================] - 53s 48ms/step - loss: 0.9235 - accuracy: 0.7339 - val_loss: 1.0655 - val_accuracy: 0.6986\n",
      "Epoch 4/5\n",
      "1119/1119 [==============================] - 53s 48ms/step - loss: 0.8425 - accuracy: 0.7556 - val_loss: 1.0616 - val_accuracy: 0.7056\n",
      "Epoch 5/5\n",
      "1119/1119 [==============================] - 54s 48ms/step - loss: 0.7724 - accuracy: 0.7751 - val_loss: 1.0697 - val_accuracy: 0.7099\n"
     ]
    }
   ],
   "source": [
    "batch_size = 128\n",
    "user_model_history = model.fit(generator(user_train_sentences, user_train_next_chars, batch_size), validation_data=generator(user_val_sentences, user_val_next_chars, batch_size), steps_per_epoch = math.floor(len(user_train_sentences)/batch_size), validation_steps = math.floor(len(user_val_sentences)/batch_size), epochs = 5).history"
   ]
  },
  {
   "cell_type": "markdown",
   "metadata": {
    "colab_type": "text",
    "id": "K4vWS8bgTZgP"
   },
   "source": [
    "## Save model"
   ]
  },
  {
   "cell_type": "code",
   "execution_count": 0,
   "metadata": {
    "colab": {},
    "colab_type": "code",
    "id": "gCvNtY-wTZgT"
   },
   "outputs": [],
   "source": [
    "model.save(user_model_save_location)\n",
    "pickle.dump(user_model_history, open(user_model_history_location, \"wb\"))"
   ]
  },
  {
   "cell_type": "markdown",
   "metadata": {
    "colab_type": "text",
    "id": "TYUYXuu3TZgg"
   },
   "source": [
    "## Load model"
   ]
  },
  {
   "cell_type": "code",
   "execution_count": 0,
   "metadata": {
    "colab": {},
    "colab_type": "code",
    "id": "qvl5VmrbTZgk"
   },
   "outputs": [],
   "source": [
    "model = tf.keras.models.load_model(user_model_save_location)\n",
    "user_model_history = pickle.load(open(user_model_history_location, \"rb\"))"
   ]
  },
  {
   "cell_type": "markdown",
   "metadata": {
    "colab_type": "text",
    "id": "g8It8JnBTZg1"
   },
   "source": [
    "## Plot accuracy"
   ]
  },
  {
   "cell_type": "code",
   "execution_count": 84,
   "metadata": {
    "colab": {
     "base_uri": "https://localhost:8080/",
     "height": 303
    },
    "colab_type": "code",
    "executionInfo": {
     "elapsed": 590,
     "status": "ok",
     "timestamp": 1587272219430,
     "user": {
      "displayName": "Skand Upmanyu",
      "photoUrl": "https://lh3.googleusercontent.com/a-/AOh14Gj-g95eci1Yvn_QJOqNQYOERaxoC-FzCYgR-r71VA0=s64",
      "userId": "04864269473795038748"
     },
     "user_tz": 240
    },
    "id": "OHCUD02uTZg2",
    "outputId": "0831cdae-1fed-4c2c-d08c-2981f18795b1"
   },
   "outputs": [
    {
     "data": {
      "image/png": "[encoded data removed]",
      "text/plain": [
       "<Figure size 432x288 with 1 Axes>"
      ]
     },
     "metadata": {
      "needs_background": "light",
      "tags": []
     },
     "output_type": "display_data"
    }
   ],
   "source": [
    "plt.plot(np.arange(1,6), user_model_history['accuracy'], linestyle='--', marker='o', color='grey')\n",
    "plt.plot(np.arange(1,6), user_model_history['val_accuracy'], linestyle='--', marker='o', color='black')\n",
    "plt.xticks(np.arange(1,6))\n",
    "plt.title('User Model Accuracy')\n",
    "plt.ylabel('Accuracy')\n",
    "plt.xlabel('Epochs')\n",
    "plt.legend(['Training', 'Validation'], loc='upper left');"
   ]
  },
  {
   "cell_type": "markdown",
   "metadata": {
    "colab_type": "text",
    "id": "_k0SflfDTZhA"
   },
   "source": [
    "## Plot loss"
   ]
  },
  {
   "cell_type": "code",
   "execution_count": 85,
   "metadata": {
    "colab": {
     "base_uri": "https://localhost:8080/",
     "height": 303
    },
    "colab_type": "code",
    "executionInfo": {
     "elapsed": 553,
     "status": "ok",
     "timestamp": 1587272223914,
     "user": {
      "displayName": "Skand Upmanyu",
      "photoUrl": "https://lh3.googleusercontent.com/a-/AOh14Gj-g95eci1Yvn_QJOqNQYOERaxoC-FzCYgR-r71VA0=s64",
      "userId": "04864269473795038748"
     },
     "user_tz": 240
    },
    "id": "dJhLWnt_TZhC",
    "outputId": "eb3f398c-064d-4196-97c2-7fd772a29a6e"
   },
   "outputs": [
    {
     "data": {
      "image/png": "[encoded data removed]",
      "text/plain": [
       "<Figure size 432x288 with 1 Axes>"
      ]
     },
     "metadata": {
      "needs_background": "light",
      "tags": []
     },
     "output_type": "display_data"
    }
   ],
   "source": [
    "plt.plot(np.arange(1,6), user_model_history['loss'], linestyle='--', marker='o', color='grey')\n",
    "plt.plot(np.arange(1,6), user_model_history['val_loss'], linestyle='--', marker='o', color='black')\n",
    "plt.xticks(np.arange(1,6))\n",
    "plt.title('User Model Loss')\n",
    "plt.ylabel('Loss')\n",
    "plt.xlabel('Epochs')\n",
    "plt.legend(['Training', 'Validation'], loc='lower left');"
   ]
  },
  {
   "cell_type": "markdown",
   "metadata": {
    "colab_type": "text",
    "id": "AXg-gCB_rt73"
   },
   "source": [
    "## Test performance"
   ]
  },
  {
   "cell_type": "code",
   "execution_count": 102,
   "metadata": {
    "colab": {
     "base_uri": "https://localhost:8080/",
     "height": 68
    },
    "colab_type": "code",
    "executionInfo": {
     "elapsed": 25269,
     "status": "ok",
     "timestamp": 1587272662355,
     "user": {
      "displayName": "Skand Upmanyu",
      "photoUrl": "https://lh3.googleusercontent.com/a-/AOh14Gj-g95eci1Yvn_QJOqNQYOERaxoC-FzCYgR-r71VA0=s64",
      "userId": "04864269473795038748"
     },
     "user_tz": 240
    },
    "id": "Eb7rgvlqrt75",
    "outputId": "7af77cda-b405-4510-ba79-949a3418f7de"
   },
   "outputs": [
    {
     "name": "stdout",
     "output_type": "stream",
     "text": [
      "62/62 [==============================] - 21s 340ms/step - loss: 1.0574 - accuracy: 0.7064\n",
      "Test loss on user model:  1.0574055910110474\n",
      "Test accuracy on user model:  0.7064012289047241\n"
     ]
    }
   ],
   "source": [
    "batch_size = 128\n",
    "user_test_loss, user_test_accuracy = model.evaluate(generator(user_test_sentences, user_test_next_chars, batch_size),\n",
    "                                                    steps = math.floor(len(user_test_sentences)/batch_size))\n",
    "print(\"Test loss on user model: \", user_test_loss)\n",
    "print(\"Test accuracy on user model: \", user_test_accuracy)"
   ]
  },
  {
   "cell_type": "markdown",
   "metadata": {
    "colab_type": "text",
    "id": "ksNhNpr1TnOy"
   },
   "source": [
    "# Customized predictions"
   ]
  },
  {
   "cell_type": "code",
   "execution_count": 0,
   "metadata": {
    "colab": {},
    "colab_type": "code",
    "id": "-KQ9raDj--Bs"
   },
   "outputs": [],
   "source": [
    "text = [\n",
    "\"Hi Prof\",\n",
    "\"Hi Professor, \",\n",
    "\"Hi Professor, hope you \",\n",
    "\"Hi Professor, hope you are \",\n",
    "\"Hi Professor, hope you are doing \",\n",
    "\"Hi Professor, hope you are doing well.\",\n",
    "\"Hi Professor, hope you are doing well. I wanted to thank \",\n",
    "\"Hi Professor, hope you are doing well. I wanted to thank you \",\n",
    "\"Hi Professor, hope you are doing well. I wanted to thank you for \",\n",
    "\"Hi Professor, hope you are doing well. I wanted to thank you for taking \",\n",
    "\"Hi Professor, hope you are doing well. I wanted to thank you for taking the \",\n",
    "\"Hi Professor, hope you are doing well. I wanted to thank you for taking the time \",\n",
    "\"Hi Professor, hope you are doing well. I wanted to thank you for taking the time for \",\n",
    "\"Hi Professor, hope you are doing well. I wanted to thank you for taking the time for the \",\n",
    "\"Hi Professor, hope you are doing well. I wanted to thank you for taking the time for the mee\",\n",
    "\"Hi Professor, hope you are doing well. I wanted to thank you for taking the time for the meeting \",\n",
    "\"Hi Professor, hope you are doing well. I wanted to thank you for taking the time for the meeting yeste\"\n",
    "]"
   ]
  },
  {
   "cell_type": "code",
   "execution_count": 151,
   "metadata": {
    "colab": {
     "base_uri": "https://localhost:8080/",
     "height": 884
    },
    "colab_type": "code",
    "executionInfo": {
     "elapsed": 17947,
     "status": "ok",
     "timestamp": 1587273238367,
     "user": {
      "displayName": "Skand Upmanyu",
      "photoUrl": "https://lh3.googleusercontent.com/a-/AOh14Gj-g95eci1Yvn_QJOqNQYOERaxoC-FzCYgR-r71VA0=s64",
      "userId": "04864269473795038748"
     },
     "user_tz": 240
    },
    "id": "iQEcK1pd--Bv",
    "outputId": "e03b598e-801c-4ebd-cbda-727b4b564111"
   },
   "outputs": [
    {
     "name": "stdout",
     "output_type": "stream",
     "text": [
      "hi prof\n",
      "['essor, ', 'it, ', '. ', ' to ', 'ord ']\n",
      "\n",
      "hi professor, \n",
      "[' i ', 'i ', 'and ', 'we ', 'so ']\n",
      "\n",
      "hi professor, hope you \n",
      "['are ', 'had ', 'want ', 'can ', 'got ']\n",
      "\n",
      "hi professor, hope you are \n",
      "['doing ', 'going ', 'already ', 'really ', 'still ']\n",
      "\n",
      "hi professor, hope you are doing \n",
      "['well. ', 'a ', 'the ', 'forward ', 'great ']\n",
      "\n",
      "hi professor, hope you are doing well.\n",
      "['  ', '..i ', 'come ', 'upmention ', ', ']\n",
      "\n",
      "hi professor, hope you are doing well. i wanted to thank \n",
      "['you ', 'to ', 'some ', 'please ', 'very ']\n",
      "\n",
      "hi professor, hope you are doing well. i wanted to thank you \n",
      "['for ', 'then ', 'so ', 'and ', 'might ']\n",
      "\n",
      "hi professor, hope you are doing well. i wanted to thank you for \n",
      "['taking ', 'your ', 'catch ', 'reaching ', 'sure ']\n",
      "\n",
      "hi professor, hope you are doing well. i wanted to thank you for taking \n",
      "['the ', 'my ', 'some ', 'it ', 'a ']\n",
      "\n",
      "hi professor, hope you are doing well. i wanted to thank you for taking the \n",
      "['time ', 'mean ', 'projects ', 'distance ', 'students ']\n",
      "\n",
      "hi professor, hope you are doing well. i wanted to thank you for taking the time \n",
      "['to ', 'for ', 'and ', 'with ', 'in ']\n",
      "\n",
      "hi professor, hope you are doing well. i wanted to thank you for taking the time for \n",
      "['the ', 'you. ', 'a ', 'me. ', 'some ']\n",
      "\n",
      "hi professor, hope you are doing well. i wanted to thank you for taking the time for the \n",
      "['interview. ', 'exam. ', 'meeting ', 'same ', 'time ']\n",
      "\n",
      "hi professor, hope you are doing well. i wanted to thank you for taking the time for the mee\n",
      "['ting ', 'p ', 'bert ', 'ming ', 'sing ']\n",
      "\n",
      "hi professor, hope you are doing well. i wanted to thank you for taking the time for the meeting \n",
      "['with ', 'for ', 'and ', 'in ', 'on ']\n",
      "\n",
      "hi professor, hope you are doing well. i wanted to thank you for taking the time for the meeting yeste\n",
      "['rday. ', 'e ', 'ad ', 'd ', 'ct ']\n",
      "\n"
     ]
    }
   ],
   "source": [
    "for q in text:\n",
    "    seq = q.lower()\n",
    "    print(seq)\n",
    "    print(predict_completions(seq, 5))\n",
    "    print()"
   ]
  }
 ],
 "metadata": {
  "colab": {
   "collapsed_sections": [
    "s44m3bnADM_Z",
    "FRH4hCAYDT2_",
    "Ermjl9DyDbA2"
   ],
   "name": "Final Non sequential Final keyboard.ipynb",
   "provenance": [
    {
     "file_id": "1FHXusqaymUvN8juCFg1qoEXK_alUwNv4",
     "timestamp": 1585967851719
    },
    {
     "file_id": "1pPx5E_yBw4ucXEuWRWuAh5cm-3iJxcGF",
     "timestamp": 1585883796771
    },
    {
     "file_id": "1HBa7Eg7125OIPZtadhEYZ1iC27nugy8I",
     "timestamp": 1585606807835
    }
   ]
  },
  "kernelspec": {
   "display_name": "Python 3",
   "language": "python",
   "name": "python3"
  },
  "language_info": {
   "codemirror_mode": {
    "name": "ipython",
    "version": 3
   },
   "file_extension": ".py",
   "mimetype": "text/x-python",
   "name": "python",
   "nbconvert_exporter": "python",
   "pygments_lexer": "ipython3",
   "version": "3.7.6"
  }
 },
 "nbformat": 4,
 "nbformat_minor": 1
}
